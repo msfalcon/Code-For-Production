{
 "cells": [
  {
   "cell_type": "code",
   "execution_count": 2,
   "id": "71a26115",
   "metadata": {},
   "outputs": [
    {
     "name": "stderr",
     "output_type": "stream",
     "text": [
      "INFO:root:              precision    recall  f1-score   support\n",
      "\n",
      "         0.0       0.98      0.98      0.98       128\n",
      "         1.0       0.98      0.98      0.98       172\n",
      "\n",
      "    accuracy                           0.98       300\n",
      "   macro avg       0.98      0.98      0.98       300\n",
      "weighted avg       0.98      0.98      0.98       300\n",
      "\n",
      "INFO:root:[1. 1. 1. 1. 0. 1. 1. 0. 1. 1. 1. 0. 1. 1. 1. 0. 0. 0. 0. 1. 1. 0. 1. 0.\n",
      " 1. 0. 1. 1. 1. 1. 1. 0. 1. 0. 1. 0. 1. 0. 1. 1. 1. 1.]\n"
     ]
    }
   ],
   "source": [
    "# Import logging for logging messages and errors\n",
    "import logging\n",
    "\n",
    "# Import custom modules for handling data, preprocessing, training, evaluating, and predicting\n",
    "from src.data_handler import DataHandler\n",
    "from src.data_preprocessor import DataPreprocessor\n",
    "from src.model_trainer import ModelTrainer\n",
    "from src.model_evaluator import ModelEvaluator\n",
    "from src.predictor import Predictor\n",
    "\n",
    "# Import the GradientBoostingClassifier from scikit-learn for model training\n",
    "from sklearn.ensemble import GradientBoostingClassifier \n",
    "\n",
    "# Configure logging to display information level logs\n",
    "logging.basicConfig(level=logging.INFO)\n",
    "\n",
    "def main():\n",
    "    \"\"\"\n",
    "    Main function to orchestrate the data loading, preprocessing, training, evaluation, and prediction steps.\n",
    "    \"\"\"\n",
    "    # Initialize the DataHandler with paths to the data files\n",
    "    data_handler = DataHandler('data/historical_sensor_data.csv', 'data/latest_sensor_data.csv')\n",
    "    # Load the data from the specified paths\n",
    "    data_handler.load_data()\n",
    "\n",
    "    # Check if historical data is not empty\n",
    "    if not data_handler.get_historical_data().empty:\n",
    "        # Preprocess the historical data\n",
    "        historical_data = data_handler.get_historical_data()\n",
    "        # Initialize the DataPreprocessor with the features of historical data (excluding the label)\n",
    "        preprocessor = DataPreprocessor(historical_data.drop(columns=['label']))\n",
    "        # Scale/transform the historical data\n",
    "        scaled_data = preprocessor.preprocess()\n",
    "        \n",
    "        # Split the data into features (X) and target variable (y)\n",
    "        X, y = scaled_data, historical_data['label'].values\n",
    "\n",
    "        # Initialize and train the model\n",
    "        model = GradientBoostingClassifier()\n",
    "        trainer = ModelTrainer(model, X, y)\n",
    "        trainer.train()\n",
    "\n",
    "        # Evaluate the model\n",
    "        evaluator = ModelEvaluator(model, trainer.get_test_data()[0], trainer.get_test_data()[1])\n",
    "        # Generate and log the evaluation report\n",
    "        evaluation_report = evaluator.evaluate()\n",
    "        logging.info(evaluation_report)\n",
    "\n",
    "        # Ensure the latest data is preprocessed in the same way as historical data\n",
    "        latest_data = data_handler.get_latest_data()\n",
    "        # Initialize the Predictor with the model, preprocessor, and latest data\n",
    "        predictor = Predictor(model, preprocessor, latest_data)\n",
    "        # Make predictions on the latest data and log them\n",
    "        predictions = predictor.make_predictions()\n",
    "        logging.info(predictions)\n",
    "\n",
    "if __name__ == '__main__':\n",
    "    main()\n",
    "\n"
   ]
  },
  {
   "cell_type": "code",
   "execution_count": null,
   "id": "93589bcb",
   "metadata": {},
   "outputs": [],
   "source": []
  },
  {
   "cell_type": "code",
   "execution_count": null,
   "id": "6975a75d",
   "metadata": {},
   "outputs": [],
   "source": []
  },
  {
   "cell_type": "code",
   "execution_count": null,
   "id": "8a5c966d",
   "metadata": {},
   "outputs": [],
   "source": []
  }
 ],
 "metadata": {
  "kernelspec": {
   "display_name": "Python 3 (ipykernel)",
   "language": "python",
   "name": "python3"
  },
  "language_info": {
   "codemirror_mode": {
    "name": "ipython",
    "version": 3
   },
   "file_extension": ".py",
   "mimetype": "text/x-python",
   "name": "python",
   "nbconvert_exporter": "python",
   "pygments_lexer": "ipython3",
   "version": "3.11.4"
  }
 },
 "nbformat": 4,
 "nbformat_minor": 5
}
